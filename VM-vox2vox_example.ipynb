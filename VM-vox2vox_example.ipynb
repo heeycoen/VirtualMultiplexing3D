{
 "cells": [
  {
   "cell_type": "markdown",
   "source": [
    "Generate training and testing dataset"
   ],
   "metadata": {
    "collapsed": false
   }
  },
  {
   "cell_type": "code",
   "execution_count": null,
   "outputs": [],
   "source": [
    "from Preprocessing.Preprocessor import preprocess,split_dataset\n",
    "\n",
    "\n",
    "preprocess(\"./inputdata.czi\",\"./preprocessed\",256,256,20,148,True,99.8,3,2)\n",
    "\n",
    "split_dataset(\"./preprocessed\",100)"
   ],
   "metadata": {
    "collapsed": false
   }
  },
  {
   "cell_type": "markdown",
   "source": [
    "Train VM-3D model"
   ],
   "metadata": {
    "collapsed": false
   }
  },
  {
   "cell_type": "code",
   "execution_count": null,
   "outputs": [],
   "source": [
    "from train import train, create_path_names\n",
    "from torch.utils.tensorboard import SummaryWriter\n",
    "\n",
    "output = \"%s/%s\" % (\"./\", \"modelname\")\n",
    "dataset_name = \"preprocessed\"\n",
    "\n",
    "\n",
    "create_path_names(output, dataset_name)\n",
    "tensorboard_writer = SummaryWriter(log_dir=\"%s%s/tb\" % (output, dataset_name))\n",
    "\n",
    "train(epoch=0, n_epochs=200, pathname=\"./\", output_path=output, dataset_name=dataset_name,\n",
    "      batch_size=2, glr=0.0002,dlr=0.0002, b1=0.5, b2=0.999, n_cpu=8, img_depth=128, img_width=256, img_height=256, channels=2, sample_interval=1,checkpoint_interval=10, lambda_voxel=100, tensorboard_writer=tensorboard_writer)"
   ],
   "metadata": {
    "collapsed": false
   }
  },
  {
   "cell_type": "markdown",
   "source": [
    "Load and Predict using virtual multiplexing model"
   ],
   "metadata": {
    "collapsed": false
   }
  },
  {
   "cell_type": "code",
   "execution_count": null,
   "outputs": [],
   "source": [
    "from predict import load_model, predict\n",
    "from Model.dataset import DataLoader, PredictDataset\n",
    "import os\n",
    "\n",
    "generator = load_model(\"./modelname\", channels = 2)\n",
    "\n",
    "if os.path.exists(\"./output_path\") == False:\n",
    "    os.mkdir(\"./output_path\")\n",
    "\n",
    "dl = DataLoader(\n",
    "        PredictDataset(\"./preprocessing/validation\"),\n",
    "        batch_size=1,\n",
    "        shuffle=False,\n",
    "        num_workers=1,\n",
    "    )\n",
    "\n",
    "predict(dl, generator, \"./output_path\")\n"
   ],
   "metadata": {
    "collapsed": false
   }
  }
 ],
 "metadata": {
  "kernelspec": {
   "display_name": "Python 3",
   "language": "python",
   "name": "python3"
  },
  "language_info": {
   "codemirror_mode": {
    "name": "ipython",
    "version": 2
   },
   "file_extension": ".py",
   "mimetype": "text/x-python",
   "name": "python",
   "nbconvert_exporter": "python",
   "pygments_lexer": "ipython2",
   "version": "2.7.6"
  }
 },
 "nbformat": 4,
 "nbformat_minor": 0
}
