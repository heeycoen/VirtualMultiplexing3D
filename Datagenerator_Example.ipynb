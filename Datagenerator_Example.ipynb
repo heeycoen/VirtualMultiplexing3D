{
 "cells": [
  {
   "cell_type": "code",
   "execution_count": 1,
   "outputs": [],
   "source": [
    "\n",
    "import h5py\n",
    "import numpy as np\n",
    "import napari\n",
    "from skimage.metrics import structural_similarity as ssim\n"
   ],
   "metadata": {
    "collapsed": false
   }
  },
  {
   "cell_type": "code",
   "execution_count": 9,
   "outputs": [
    {
     "name": "stdout",
     "output_type": "stream",
     "text": [
      "(2, 128, 512, 512)\n"
     ]
    },
    {
     "ename": "TypeError",
     "evalue": "fromarray() missing 1 required positional argument: 'obj'",
     "output_type": "error",
     "traceback": [
      "\u001B[0;31m---------------------------------------------------------------------------\u001B[0m",
      "\u001B[0;31mTypeError\u001B[0m                                 Traceback (most recent call last)",
      "Cell \u001B[0;32mIn[9], line 15\u001B[0m\n\u001B[1;32m      8\u001B[0m \u001B[38;5;66;03m#view = napari.view_image(PixPrediction,channel_axis=0, scale=(2,1,1),axis_labels=('z','x','y'), name=\"Pix\")\u001B[39;00m\n\u001B[1;32m      9\u001B[0m \u001B[38;5;66;03m#view.add_image(Truth,channel_axis=0, scale=(2,1,1),name=\"truth\")\u001B[39;00m\n\u001B[1;32m     10\u001B[0m \u001B[38;5;66;03m#view.add_image(VoxSigmoidPrediction,channel_axis=0, scale=(2,1,1),name=\"Sig\")\u001B[39;00m\n\u001B[1;32m     11\u001B[0m \u001B[38;5;66;03m#view.add_image(VoxPrediction,channel_axis=0, scale=(2,1,1),name=\"Tan\")\u001B[39;00m\n\u001B[1;32m     12\u001B[0m \u001B[38;5;66;03m#view.add_image(image[0], scale=(2,1,1), name=\"input\")\u001B[39;00m\n\u001B[1;32m     13\u001B[0m \u001B[38;5;66;03m#napari.run()\u001B[39;00m\n\u001B[1;32m     14\u001B[0m \u001B[38;5;28mprint\u001B[39m(Truth\u001B[38;5;241m.\u001B[39mshape)\n\u001B[0;32m---> 15\u001B[0m \u001B[43mImage\u001B[49m\u001B[38;5;241;43m.\u001B[39;49m\u001B[43mfromarray\u001B[49m\u001B[43m(\u001B[49m\u001B[43m)\u001B[49m\u001B[38;5;241m.\u001B[39mshow()\n",
      "\u001B[0;31mTypeError\u001B[0m: fromarray() missing 1 required positional argument: 'obj'"
     ]
    }
   ],
   "source": [
    "result = h5py.File(\"/Users/coenkenter/Desktop/Figure_images_VM/8_result.h5\", 'r')\n",
    "PixPrediction = np.array([result[\"pix2pix\"][1],result[\"pix2pix\"][0]]).astype(int)\n",
    "VoxPrediction = (np.array(result[\"prediction\"])*255).astype(int)\n",
    "Truth = (np.array(result[\"truth\"])*255).astype(int)\n",
    "#image = np.array(result[\"image\"])\n",
    "VoxSigmoidPrediction = np.array(result[\"sigmoid_prediction\"])\n",
    "view = napari.view_image(PixPrediction,channel_axis=0, scale=(2,1,1),axis_labels=('z','x','y'), name=\"Pix\")\n",
    "view.add_image(Truth,channel_axis=0, scale=(2,1,1),name=\"truth\")\n",
    "view.add_image(VoxSigmoidPrediction,channel_axis=0, scale=(2,1,1),name=\"Sig\")\n",
    "view.add_image(VoxPrediction,channel_axis=0, scale=(2,1,1),name=\"Tan\")\n",
    "#view.add_image(image[0], scale=(2,1,1), name=\"input\")\n",
    "napari.run()\n"
   ],
   "metadata": {
    "collapsed": false
   }
  },
  {
   "cell_type": "code",
   "execution_count": 5,
   "outputs": [],
   "source": [
    "result = h5py.File(\"/Users/coenkenter/Desktop/Figure_images_VM/8_result.h5\", 'r')\n",
    "PixPrediction = np.array([result[\"pix2pix\"][1],result[\"pix2pix\"][0]]).astype(int)\n",
    "VoxPrediction = (np.array(result[\"prediction\"])*255).astype(int)\n",
    "Truth = (np.array(result[\"truth\"])*255).astype(int)\n",
    "#image = np.array(result[\"image\"])\n",
    "VoxSigmoidPrediction = np.array(result[\"sigmoid_prediction\"])\n",
    "view = napari.view_image(PixPrediction[:,:,60:140,340:390],channel_axis=0, scale=(2,1,1),axis_labels=('z','x','y'), name=\"Pix\")\n",
    "view.add_image(Truth[:,:,60:140,340:390],channel_axis=0, scale=(2,1,1),name=\"truth\")\n",
    "view.add_image(VoxSigmoidPrediction[:,:,60:140,340:390],channel_axis=0, scale=(2,1,1),name=\"Sig\")\n",
    "view.add_image(VoxPrediction[:,:,60:140,340:390],channel_axis=0, scale=(2,1,1),name=\"Tan\")\n",
    "#view.add_image(image[0], scale=(2,1,1), name=\"input\")\n",
    "napari.run()"
   ],
   "metadata": {
    "collapsed": false
   }
  },
  {
   "cell_type": "markdown",
   "source": [],
   "metadata": {
    "collapsed": false
   }
  },
  {
   "cell_type": "code",
   "execution_count": 15,
   "outputs": [],
   "source": [
    "result = h5py.File(\"/Users/coenkenter/Desktop/Figure_images_VM/11_result.h5\", 'r')\n",
    "PixPrediction = np.array([result[\"pix2pix\"][1],result[\"pix2pix\"][0]]).astype(int)\n",
    "VoxPrediction = (np.array(result[\"prediction\"])*255).astype(int)\n",
    "SigPrediction = (np.array(result[\"sigmoid_prediction\"])*255).astype(int)\n",
    "Truth = (np.array(result[\"truth\"])*255).astype(int)\n",
    "image = np.array(result[\"image\"])\n",
    "view = napari.view_image(PixPrediction,name=\"Pix2Pix\",channel_axis=0, scale=(2,1,1))\n",
    "view.add_image(Truth,name=\"truth\",channel_axis=0, scale=(2,1,1))\n",
    "view.add_image(VoxPrediction,name=\"Tanh\",channel_axis=0, scale=(2,1,1))\n",
    "view.add_image(SigPrediction,name=\"Sigmoid\",channel_axis=0, scale=(2,1,1))\n",
    "view.add_image(image[0],name=\"image\", scale=(2,1,1))\n",
    "napari.run()"
   ],
   "metadata": {
    "collapsed": false
   }
  },
  {
   "cell_type": "code",
   "execution_count": 10,
   "outputs": [
    {
     "name": "stderr",
     "output_type": "stream",
     "text": [
      "DEBUG:napari.loader:ImageSlice.__init__\n",
      "DEBUG:napari.loader:ImageSlice.__init__\n",
      "DEBUG:napari.loader:ImageSlice.__init__\n",
      "DEBUG:napari.loader:ImageSlice.__init__\n",
      "DEBUG:napari.loader:ImageSlice.__init__\n",
      "DEBUG:napari.loader:ImageSlice.__init__\n",
      "DEBUG:napari.loader:ImageSlice.__init__\n",
      "DEBUG:napari.loader:ImageSlice.__init__\n",
      "DEBUG:napari.loader:ImageSlice.__init__\n",
      "DEBUG:napari.loader:ImageSlice.__init__\n",
      "DEBUG:napari.loader:ImageSlice.__init__\n",
      "DEBUG:napari.loader:ImageSlice.__init__\n",
      "DEBUG:napari.loader:ImageSlice.__init__\n",
      "DEBUG:napari.loader:ImageSlice.__init__\n",
      "DEBUG:napari.loader:ImageSlice.__init__\n",
      "DEBUG:napari.loader:ImageSlice.__init__\n",
      "DEBUG:napari.loader:ImageSlice.__init__\n",
      "DEBUG:napari.loader:ImageSlice.__init__\n",
      "DEBUG:napari.loader:ImageSlice.__init__\n",
      "DEBUG:napari.loader:ImageSlice.__init__\n",
      "DEBUG:napari.loader:ImageSlice.__init__\n",
      "DEBUG:napari.loader:ImageSlice.__init__\n",
      "DEBUG:napari.loader:ImageSlice.__init__\n",
      "DEBUG:napari.loader:ImageSlice.__init__\n",
      "DEBUG:napari.loader:ImageSlice.__init__\n",
      "DEBUG:napari.loader:ImageSlice.__init__\n",
      "DEBUG:napari.loader:ImageSlice.__init__\n"
     ]
    }
   ],
   "source": [
    "result = h5py.File(\"/Users/coenkenter/Desktop/Figure_images_VM/11_result.h5\", 'r')\n",
    "PixPrediction = np.array([result[\"pix2pix\"][1],result[\"pix2pix\"][0]]).astype(int)\n",
    "VoxPrediction = (np.array(result[\"prediction\"])*255).astype(int)\n",
    "SigPrediction = (np.array(result[\"sigmoid_prediction\"])*255).astype(int)\n",
    "Truth = (np.array(result[\"truth\"])*255).astype(int)\n",
    "image = np.array(result[\"image\"])\n",
    "\n",
    "view = napari.view_image(PixPrediction[:,:,0:300,0:300],name=\"Pix2Pix\",channel_axis=0)\n",
    "view.add_image(Truth[:,:,0:300,0:300],name=\"truth\",channel_axis=0)\n",
    "view.add_image(VoxPrediction[:,:,0:300,0:300],name=\"Tanh\",channel_axis=0)\n",
    "view.add_image(SigPrediction[:,:,0:300,0:300],name=\"Sigmoid\",channel_axis=0)\n",
    "view.add_image(image[0][:,0:300,0:300],name=\"image\")\n",
    "napari.run()"
   ],
   "metadata": {
    "collapsed": false
   }
  },
  {
   "cell_type": "code",
   "execution_count": 8,
   "outputs": [],
   "source": [
    "result = h5py.File(\"/Users/coenkenter/Downloads/comparisonResults/VoxMix5Results/6_result.h5\", 'r')\n",
    "PixPrediction = np.array([result[\"pix2pix\"][1],result[\"pix2pix\"][0]]).astype(int)\n",
    "VoxPrediction = (np.array(result[\"prediction\"])*255).astype(int)\n",
    "SigPrediction = (np.array(result[\"Sig_prediction\"])*255).astype(int)\n",
    "image = np.array(result[\"image\"])\n",
    "view = napari.view_image(PixPrediction,name=\"Pix2Pix\",channel_axis=0, scale=(2,1,1),axis_labels=('z','x','y'))\n",
    "view.add_image(VoxPrediction,name=\"Tanh\",channel_axis=0, scale=(2,1,1))\n",
    "view.add_image(SigPrediction,name=\"Sigmoid\",channel_axis=0, scale=(2,1,1))\n",
    "view.add_image(image[0],name=\"image\", scale=(2,1,1))\n",
    "napari.run()"
   ],
   "metadata": {
    "collapsed": false
   }
  },
  {
   "cell_type": "code",
   "execution_count": 49,
   "outputs": [],
   "source": [
    "result = h5py.File(\"/Users/coenkenter/Desktop/Figure_images_VM/11_result.h5\", 'r')\n",
    "VoxPrediction = np.array(result[\"prediction\"])\n",
    "VoxSigmoidPrediction= np.array(result[\"sigmoid_prediction\"])\n",
    "PixPrediction = np.array([result[\"pix2pix\"][1],result[\"pix2pix\"][0]],dtype=float)/255\n",
    "Truth = np.array(result[\"truth\"])\n",
    "Truth[Truth<0.01]=0\n",
    "VoxPrediction[VoxPrediction<0]=0\n",
    "image = np.array(result[\"image\"])\n"
   ],
   "metadata": {
    "collapsed": false
   }
  },
  {
   "cell_type": "code",
   "execution_count": 3,
   "outputs": [],
   "source": [
    "from Metrics.ssim_scoring import Masked_SSIM, Masked_SSIM_AVG\n",
    "import Metrics\n",
    "\n",
    "ssim_0, dice_0,mask_0,mask_VP_0 = Masked_SSIM(VoxPrediction[0],Truth[0])\n",
    "ssim_1, dice_1,mask_1,mask_VP_1 = Masked_SSIM(VoxPrediction[1],Truth[1])\n",
    "ssim_f, dice_f,mask_f,mask_VP_f = Masked_SSIM_AVG(VoxPrediction,Truth)"
   ],
   "metadata": {
    "collapsed": false
   }
  },
  {
   "cell_type": "code",
   "execution_count": 6,
   "outputs": [
    {
     "name": "stdout",
     "output_type": "stream",
     "text": [
      "0.9704796\n",
      "0.97607535\n",
      "0.97011226\n"
     ]
    }
   ],
   "source": [
    "print(ssim_0)\n",
    "print(ssim_1)\n",
    "print(ssim_f)"
   ],
   "metadata": {
    "collapsed": false
   }
  },
  {
   "cell_type": "code",
   "execution_count": 12,
   "outputs": [],
   "source": [
    "from Metrics.ssim_scoring import Masked_SSIM, Masked_SSIM_AVG\n",
    "\n",
    "ssim_sig_0, dice_sig_0,_,mask_sig_0 = Masked_SSIM(VoxSigmoidPrediction[0],Truth[0],mask_0)\n",
    "ssim_sig_1, dice_sig_1,_,mask_sig_1 = Masked_SSIM(VoxSigmoidPrediction[1],Truth[1],mask_1)\n",
    "ssim_sig_f, dice_sig_f,_,mask_sig_f = Masked_SSIM_AVG(VoxSigmoidPrediction,Truth,mask_f)"
   ],
   "metadata": {
    "collapsed": false
   }
  },
  {
   "cell_type": "code",
   "execution_count": 13,
   "outputs": [
    {
     "name": "stdout",
     "output_type": "stream",
     "text": [
      "0.9710146\n",
      "0.975962\n",
      "0.9673428\n"
     ]
    }
   ],
   "source": [
    "print(ssim_sig_0)\n",
    "print(ssim_sig_1)\n",
    "print(ssim_sig_f)"
   ],
   "metadata": {
    "collapsed": false
   }
  },
  {
   "cell_type": "code",
   "execution_count": 8,
   "outputs": [
    {
     "name": "stderr",
     "output_type": "stream",
     "text": [
      "/opt/anaconda3/envs/stapl3d/lib/python3.9/site-packages/skimage/_shared/utils.py:348: UserWarning: Inputs have mismatched dtype.  Setting data_range based on im1.dtype.\n",
      "  return func(*args, **kwargs)\n"
     ]
    }
   ],
   "source": [
    "\n",
    "ssim_pix_0, dice_pix_0,_,_ = Masked_SSIM(PixPrediction[0],Truth[0],mask_0)\n",
    "ssim_pix_1, dice_pix_1,_,_ = Masked_SSIM(PixPrediction[1],Truth[1],mask_1)\n",
    "ssim_pix_f, dice_pix_f,_,_ = Masked_SSIM_AVG(PixPrediction,Truth,mask_f)"
   ],
   "metadata": {
    "collapsed": false
   }
  },
  {
   "cell_type": "code",
   "execution_count": 15,
   "outputs": [
    {
     "name": "stdout",
     "output_type": "stream",
     "text": [
      "0.9693391241993032\n",
      "0.9720584046474194\n",
      "0.9679307131156879\n"
     ]
    }
   ],
   "source": [
    "print(ssim_pix_0)\n",
    "print(ssim_pix_1)\n",
    "print(ssim_pix_f)"
   ],
   "metadata": {
    "collapsed": false
   }
  },
  {
   "cell_type": "code",
   "execution_count": 16,
   "outputs": [
    {
     "name": "stdout",
     "output_type": "stream",
     "text": [
      "Dice membrane: 0.9529747854970958, nuclei: 0.8890085259244082, full: 0.9589586940489275\n",
      "Dice membrane: 0.959475221018732, nuclei: 0.8307728688573938, full: 0.9359578027610947\n",
      "Dice membrane: 0.9652797656048073, nuclei: 0.8392797022641599, full: 0.9753863052630102\n"
     ]
    }
   ],
   "source": [
    "print(f\"Dice membrane: {dice_0}, nuclei: {dice_1}, full: {dice_f}\")\n",
    "print(f\"Dice membrane: {dice_sig_0}, nuclei: {dice_sig_1}, full: {dice_sig_f}\")\n",
    "print(f\"Dice membrane: {dice_pix_0}, nuclei: {dice_pix_1}, full: {dice_pix_f}\")"
   ],
   "metadata": {
    "collapsed": false
   }
  },
  {
   "cell_type": "code",
   "execution_count": 109,
   "outputs": [],
   "source": [
    "from Metrics.sauvola_masking import sauvola_mask\n",
    "def Masked_SSIM_2(Prediction, Truth, Mask=None):\n",
    "    if Mask is None:\n",
    "        mask_truth = sauvola_mask(Truth)\n",
    "    else:\n",
    "        mask_truth = Mask\n",
    "    RealMasked = np.where(mask_truth, Truth, 0)\n",
    "    masked_prediction = np.where(mask_truth, Prediction, 0)\n",
    "    SSIM = ssim(masked_prediction, RealMasked, win_size=15, channel_axis=0)\n",
    "    return SSIM, mask_truth\n"
   ],
   "metadata": {
    "collapsed": false
   }
  },
  {
   "cell_type": "code",
   "execution_count": 21,
   "outputs": [],
   "source": [
    "ssim_sig_0_2, _ = Masked_SSIM_2(VoxSigmoidPrediction[0],Truth[0],mask_0)\n",
    "ssim_sig_1_2, _= Masked_SSIM_2(VoxSigmoidPrediction[1],Truth[1],mask_1)"
   ],
   "metadata": {
    "collapsed": false
   }
  },
  {
   "cell_type": "code",
   "execution_count": 22,
   "outputs": [
    {
     "name": "stdout",
     "output_type": "stream",
     "text": [
      "0.973173\n",
      "0.9782711\n"
     ]
    }
   ],
   "source": [
    "\n",
    "print(ssim_sig_0_2)\n",
    "print(ssim_sig_1_2)"
   ],
   "metadata": {
    "collapsed": false
   }
  },
  {
   "cell_type": "code",
   "execution_count": 50,
   "outputs": [],
   "source": [
    "\n",
    "view = napari.view_image(VoxSigmoidPrediction,channel_axis=0, scale=(2,1,1),name=\"Sigmoid\")\n",
    "view.add_image(Truth,channel_axis=0, scale=(2,1,1),name=\"Truth\")\n",
    "view.add_image(VoxPrediction,channel_axis=0, scale=(2,1,1),name=\"Vox\")\n",
    "view.add_image(PixPrediction,channel_axis=0, scale=(2,1,1),name=\"Pix\")\n",
    "#view.add_image(image[0], scale=(2,1,1),name=\"Input\")\n",
    "napari.run()"
   ],
   "metadata": {
    "collapsed": false
   }
  },
  {
   "cell_type": "markdown",
   "source": [],
   "metadata": {
    "collapsed": false
   }
  },
  {
   "cell_type": "code",
   "execution_count": 12,
   "outputs": [],
   "source": [
    "root = \"/Users/coenkenter/Downloads/comparisonResults/VoxMix5Results\"\n",
    "from Preprocessing.Converter import batch_convert_to_pix2pix\n",
    "\n",
    "batch_convert_to_pix2pix(root)\n"
   ],
   "metadata": {
    "collapsed": false
   }
  },
  {
   "cell_type": "code",
   "execution_count": 2,
   "outputs": [],
   "source": [
    "root = \"/Users/coenkenter/Downloads/comparisonResults/VoxMix5Results\"\n",
    "from Preprocessing.Converter import batch_convert_from_pix2pix\n",
    "\n",
    "batch_convert_from_pix2pix(root)"
   ],
   "metadata": {
    "collapsed": false
   }
  },
  {
   "cell_type": "code",
   "execution_count": 10,
   "outputs": [],
   "source": [
    "r6 = h5py.File(root+\"/6_result.h5\",\"r\")\n",
    "PixPrediction = np.array([r6[\"pix2pix\"][1],r6[\"pix2pix\"][0]])\n",
    "VoxPrediction = np.array(r6[\"prediction\"])\n",
    "SigmoidPrediction = np.array(r6[\"Sig_prediction\"])\n",
    "image = np.array(r6[\"image\"])\n",
    "view = napari.view_image(name=\"pix\",data=PixPrediction[:,:,200:400,300:500],channel_axis=0, scale=(2,1,1))\n",
    "view.add_image(name=\"sig\",data=SigmoidPrediction[:,:,200:400,300:500],channel_axis=0, scale=(2,1,1))\n",
    "view.add_image(name=\"tan\",data=VoxPrediction[:,:,200:400,300:500],channel_axis=0, scale=(2,1,1))\n",
    "view.add_image(image[0,:,200:400,300:500], scale=(2,1,1))\n",
    "napari.run()"
   ],
   "metadata": {
    "collapsed": false
   }
  },
  {
   "cell_type": "code",
   "execution_count": 4,
   "outputs": [],
   "source": [
    "result = h5py.File(\"/Users/coenkenter/Desktop/Figure_images_VM/8_result.h5\", 'r')\n",
    "PixPrediction = np.array([result[\"pix2pix\"][1],result[\"pix2pix\"][0]]).astype(int)\n",
    "VoxPrediction = (np.array(result[\"prediction\"])*255).astype(int)\n",
    "Truth = (np.array(result[\"truth\"])*255).astype(int)\n",
    "image = np.array(result[\"image\"])"
   ],
   "metadata": {
    "collapsed": false
   }
  },
  {
   "cell_type": "code",
   "execution_count": 30,
   "outputs": [],
   "source": [
    "\n",
    "view = napari.view_image(PixPrediction,channel_axis=0, scale=(2,1,1))\n",
    "view.add_image(Truth,channel_axis=0, scale=(2,1,1))\n",
    "view.add_image(VoxPrediction,channel_axis=0, scale=(2,1,1))\n",
    "view.add_image(image[0], scale=(2,1,1))\n",
    "napari.run()\n",
    "\n"
   ],
   "metadata": {
    "collapsed": false
   }
  },
  {
   "cell_type": "code",
   "execution_count": 6,
   "outputs": [],
   "source": [
    "result = h5py.File(\"/Users/coenkenter/Desktop/Figure_images_VM/35_result.h5\", 'r')\n",
    "PixPrediction = np.array([[result[\"pix2pix\"][1], result[\"pix2pix\"][0]]])/255\n",
    "VoxPrediction = np.array([[result[\"prediction\"][0],result[\"prediction\"][1]]])\n",
    "Truth = np.array([[result[\"truth\"][0],result[\"truth\"][1]]])\n",
    "image = np.array(result[\"image\"])"
   ],
   "metadata": {
    "collapsed": false
   }
  },
  {
   "cell_type": "code",
   "execution_count": 9,
   "outputs": [
    {
     "name": "stdout",
     "output_type": "stream",
     "text": [
      "0.9116871356964111\n",
      "tensor([0.8869])\n"
     ]
    }
   ],
   "source": [
    "\n",
    "from pytorch_msssim import ms_ssim, ssim\n",
    "import torch\n",
    "\n",
    "ssimscore = ms_ssim(torch.Tensor(Truth),torch.Tensor(VoxPrediction), data_range=1, size_average=False).item()\n",
    "print(ssimscore)\n",
    "\n",
    "print(ms_ssim(torch.Tensor(Truth),torch.Tensor(PixPrediction), data_range=1, size_average=False))"
   ],
   "metadata": {
    "collapsed": false
   }
  },
  {
   "cell_type": "code",
   "execution_count": 2,
   "outputs": [],
   "source": [
    "from scipy.ndimage import gaussian_filter\n",
    "\n",
    "result = h5py.File(\"/Users/coenkenter/Desktop/Figure_images_VM/8_result.h5\", 'r')\n",
    "PixPrediction = np.array([result[\"pix2pix\"][1],result[\"pix2pix\"][0]],dtype=float)/255\n",
    "VoxPrediction = np.array(result[\"prediction\"])\n",
    "Truth = np.array(result[\"truth\"])\n",
    "#image = np.array(result[\"image\"])\n",
    "VoxSigmoidPrediction= np.array(result[\"sigmoid_prediction\"])\n",
    "#view.add_image(Truth,channel_axis=0, scale=(2,1,1))\n",
    "rotPix = np.rot90(PixPrediction,k=1,axes=(1,2))[0:2,250,0:50,0:250]\n",
    "rotSig = np.rot90(VoxSigmoidPrediction,k=1,axes=(1,2))[0:2,250,0:50,0:250]\n",
    "rotTruth = np.rot90(Truth,k=1,axes=(1,2))[0:2,250,0:50,0:250]\n",
    "rotVox = np.rot90(VoxPrediction,k=1,axes=(1,2))[0:2,250,0:50,0:250]\n",
    "rotTruthBlur = np.array([gaussian_filter(rotTruth[0],sigma=1.1),gaussian_filter(rotTruth[1],sigma=1.3)])"
   ],
   "metadata": {
    "collapsed": false
   }
  },
  {
   "cell_type": "code",
   "execution_count": 123,
   "outputs": [
    {
     "name": "stdout",
     "output_type": "stream",
     "text": [
      "0.7157690767214757\n",
      "0.78062844\n",
      "0.79378074\n",
      "0.4989823953483826\n",
      "0.52912176\n",
      "0.5320473\n"
     ]
    },
    {
     "name": "stderr",
     "output_type": "stream",
     "text": [
      "/opt/anaconda3/envs/stapl3d/lib/python3.9/site-packages/skimage/_shared/utils.py:348: UserWarning: Inputs have mismatched dtype.  Setting data_range based on im1.dtype.\n",
      "  return func(*args, **kwargs)\n"
     ]
    }
   ],
   "source": [
    "\n",
    "print(ssim(rotPix,rotTruthBlur,channel_axis=0,win_size=7))\n",
    "print(ssim(rotSig,rotTruthBlur,channel_axis=0,win_size=7))\n",
    "print(ssim(rotVox,rotTruthBlur,channel_axis=0,win_size=7))\n",
    "print(ssim(rotPix,rotTruth,channel_axis=0,win_size=7))\n",
    "print(ssim(rotSig,rotTruth,channel_axis=0,win_size=7))\n",
    "print(ssim(rotVox,rotTruth,channel_axis=0,win_size=7))\n"
   ],
   "metadata": {
    "collapsed": false
   }
  },
  {
   "cell_type": "code",
   "execution_count": 124,
   "outputs": [
    {
     "name": "stdout",
     "output_type": "stream",
     "text": [
      "0.85551715\n",
      "0.86410284\n",
      "0.8116752402378458\n"
     ]
    }
   ],
   "source": [
    "ss, mask = Masked_SSIM_2(rotSig, rotTruthBlur)\n",
    "print(ss)\n",
    "ss, _ = Masked_SSIM_2(rotVox, rotTruthBlur, mask)\n",
    "print(ss)\n",
    "ss, _ = Masked_SSIM_2(rotPix, rotTruthBlur, mask)\n",
    "print(ss)\n"
   ],
   "metadata": {
    "collapsed": false
   }
  },
  {
   "cell_type": "code",
   "execution_count": 125,
   "outputs": [
    {
     "name": "stdout",
     "output_type": "stream",
     "text": [
      "0.67079747\n",
      "0.67275244\n",
      "0.6500385624130448\n"
     ]
    }
   ],
   "source": [
    "ss, mask = Masked_SSIM_2(rotSig, rotTruth)\n",
    "print(ss)\n",
    "ss, _ = Masked_SSIM_2(rotVox, rotTruth, mask)\n",
    "print(ss)\n",
    "ss, _ = Masked_SSIM_2(rotPix, rotTruth, mask)\n",
    "print(ss)"
   ],
   "metadata": {
    "collapsed": false
   }
  },
  {
   "cell_type": "code",
   "execution_count": 3,
   "outputs": [],
   "source": [
    "view = napari.view_image(rotPix ,channel_axis=0,name=\"Pix\")\n",
    "view.add_image(rotSig,channel_axis=0,name=\"Sig\")\n",
    "view.add_image(rotVox,channel_axis=0,name=\"Vox\")\n",
    "view.add_image(rotTruth,channel_axis=0)\n",
    "view.add_image(rotTruthBlur,channel_axis=0)\n",
    "napari.run()"
   ],
   "metadata": {
    "collapsed": false
   }
  },
  {
   "cell_type": "code",
   "execution_count": null,
   "outputs": [],
   "source": [],
   "metadata": {
    "collapsed": false
   }
  },
  {
   "cell_type": "code",
   "execution_count": 127,
   "outputs": [],
   "source": [
    "\n",
    "from scipy.ndimage import gaussian_filter\n",
    "\n",
    "result = h5py.File(\"/Users/coenkenter/Desktop/Figure_images_VM/8_result.h5\", 'r')\n",
    "PixPrediction = np.array([result[\"pix2pix\"][1],result[\"pix2pix\"][0]],dtype=float)/255\n",
    "VoxPrediction = np.array(result[\"prediction\"])\n",
    "Truth = np.array(result[\"truth\"])\n",
    "#image = np.array(result[\"image\"])\n",
    "VoxSigmoidPrediction= np.array(result[\"sigmoid_prediction\"])\n",
    "#view.add_image(Truth,channel_axis=0, scale=(2,1,1))\n",
    "rotPix = np.rot90(PixPrediction,k=1,axes=(1,2))[0:2,250,0:50,0:250]\n",
    "rotSig = np.rot90(VoxSigmoidPrediction,k=1,axes=(1,2))[0:2,250,0:50,0:250]\n",
    "rotTruth = np.rot90(Truth,k=1,axes=(1,2))[0:2,250,0:50,0:250]\n",
    "rotVox = np.rot90(VoxPrediction,k=1,axes=(1,2))[0:2,250,0:50,0:250]\n",
    "rotTruthBlur = np.array([gaussian_filter(rotTruth[0],sigma=1.1),gaussian_filter(rotTruth[1],sigma=1.3)])\n",
    "\n",
    "\n"
   ],
   "metadata": {
    "collapsed": false
   }
  },
  {
   "cell_type": "code",
   "execution_count": 137,
   "outputs": [],
   "source": [
    "from skued import bragg_peaks_persistence\n",
    "\n",
    "peaks, bd, bd_indices, persistence = bragg_peaks_persistence(rotTruthBlur[1])"
   ],
   "metadata": {
    "collapsed": false
   }
  },
  {
   "cell_type": "code",
   "execution_count": 138,
   "outputs": [
    {
     "name": "stdout",
     "output_type": "stream",
     "text": [
      "[[ 37  49]\n",
      " [ 28  48]\n",
      " [ 42  48]\n",
      " [ 12  49]\n",
      " [  8  49]\n",
      " [ 50  48]\n",
      " [ 55  49]\n",
      " [ 14  47]\n",
      " [  4  49]\n",
      " [ 22  45]\n",
      " [ 61  49]\n",
      " [ 44  45]\n",
      " [ 55  46]\n",
      " [  8  45]\n",
      " [ 33  42]\n",
      " [ 40  42]\n",
      " [ 61  46]\n",
      " [ 24  41]\n",
      " [ 53  42]\n",
      " [  6  41]\n",
      " [ 71  46]\n",
      " [ 15  39]\n",
      " [ 23  38]\n",
      " [ 48  39]\n",
      " [  2  41]\n",
      " [ 28  37]\n",
      " [ 36  37]\n",
      " [ 42  37]\n",
      " [ 82  49]\n",
      " [ 55  37]\n",
      " [  6  37]\n",
      " [ 75  43]\n",
      " [ 64  38]\n",
      " [ 21  32]\n",
      " [ 41  32]\n",
      " [ 91  49]\n",
      " [ 30  31]\n",
      " [ 17  31]\n",
      " [ 27  30]\n",
      " [ 11  31]\n",
      " [ 82  41]\n",
      " [ 16  29]\n",
      " [ 97  49]\n",
      " [  0  32]\n",
      " [ 45  27]\n",
      " [ 82  36]\n",
      " [ 51  26]\n",
      " [ 66  29]\n",
      " [  1  27]\n",
      " [ 36  23]\n",
      " [ 95  41]\n",
      " [ 61  26]\n",
      " [107  49]\n",
      " [ 99  43]\n",
      " [ 66  26]\n",
      " [ 10  22]\n",
      " [ 16  21]\n",
      " [ 28  19]\n",
      " [  6  21]\n",
      " [ 99  39]\n",
      " [ 22  18]\n",
      " [  0  20]\n",
      " [104  39]\n",
      " [ 75  23]\n",
      " [ 16  15]\n",
      " [ 69  20]\n",
      " [  3  17]\n",
      " [ 33  14]\n",
      " [ 40  14]\n",
      " [117  46]\n",
      " [  7  15]\n",
      " [114  42]\n",
      " [ 53  12]\n",
      " [ 47  11]\n",
      " [  1  13]\n",
      " [109  34]\n",
      " [ 77  17]\n",
      " [ 96  25]\n",
      " [  7  10]\n",
      " [ 93  23]\n",
      " [ 85  19]\n",
      " [ 14   8]\n",
      " [ 66  11]\n",
      " [105  28]\n",
      " [121  40]\n",
      " [ 72  12]\n",
      " [ 88  18]\n",
      " [ 18   5]\n",
      " [107  27]\n",
      " [  1   6]\n",
      " [ 10   3]\n",
      " [133  45]\n",
      " [ 74   8]\n",
      " [118  31]\n",
      " [ 25   1]\n",
      " [ 62   4]\n",
      " [ 20   0]\n",
      " [ 12   0]\n",
      " [ 67   3]\n",
      " [ 91  11]\n",
      " [  3   0]\n",
      " [  0   0]\n",
      " [ 66   0]\n",
      " [100  13]\n",
      " [ 75   0]\n",
      " [135  35]\n",
      " [ 85   3]\n",
      " [106  13]\n",
      " [ 82   0]\n",
      " [152  49]\n",
      " [130  26]\n",
      " [113  13]\n",
      " [121  16]\n",
      " [105   2]\n",
      " [142  27]\n",
      " [140  20]\n",
      " [116   2]\n",
      " [114   0]\n",
      " [123   4]\n",
      " [133  10]\n",
      " [160  32]\n",
      " [129   3]\n",
      " [125   0]\n",
      " [175  49]\n",
      " [159  26]\n",
      " [135   1]\n",
      " [140   3]\n",
      " [182  49]\n",
      " [147   7]\n",
      " [151  10]\n",
      " [144   3]\n",
      " [188  49]\n",
      " [180  34]\n",
      " [169  20]\n",
      " [150   1]\n",
      " [162  10]\n",
      " [193  49]\n",
      " [192  44]\n",
      " [188  37]\n",
      " [172  16]\n",
      " [161   3]\n",
      " [166   7]\n",
      " [169   8]\n",
      " [166   2]\n",
      " [174   7]\n",
      " [193  29]\n",
      " [179  10]\n",
      " [187  18]\n",
      " [203  41]\n",
      " [173   2]\n",
      " [171   0]\n",
      " [186  16]\n",
      " [178   6]\n",
      " [197  28]\n",
      " [192  17]\n",
      " [212  44]\n",
      " [187   7]\n",
      " [198  18]\n",
      " [204  26]\n",
      " [195  13]\n",
      " [188   3]\n",
      " [202  18]\n",
      " [193   5]\n",
      " [199  12]\n",
      " [209  25]\n",
      " [221  42]\n",
      " [198   7]\n",
      " [202  10]\n",
      " [196   0]\n",
      " [218  26]\n",
      " [217  22]\n",
      " [208   7]\n",
      " [205   1]\n",
      " [233  43]\n",
      " [214   9]\n",
      " [227  22]\n",
      " [240  46]\n",
      " [222  10]\n",
      " [245  49]\n",
      " [244  44]\n",
      " [241  37]\n",
      " [221   3]\n",
      " [226   9]\n",
      " [249  49]\n",
      " [248  45]\n",
      " [237  23]\n",
      " [247  39]\n",
      " [225   2]\n",
      " [249  37]\n",
      " [233   8]\n",
      " [232   0]\n",
      " [238   7]\n",
      " [249  20]\n",
      " [245  12]\n",
      " [246  10]\n",
      " [243   5]\n",
      " [245   2]]\n"
     ]
    }
   ],
   "source": [
    "print(peaks)"
   ],
   "metadata": {
    "collapsed": false
   }
  },
  {
   "cell_type": "code",
   "execution_count": null,
   "outputs": [],
   "source": [],
   "metadata": {
    "collapsed": false
   }
  }
 ],
 "metadata": {
  "kernelspec": {
   "display_name": "Python 3",
   "language": "python",
   "name": "python3"
  },
  "language_info": {
   "codemirror_mode": {
    "name": "ipython",
    "version": 2
   },
   "file_extension": ".py",
   "mimetype": "text/x-python",
   "name": "python",
   "nbconvert_exporter": "python",
   "pygments_lexer": "ipython2",
   "version": "2.7.6"
  }
 },
 "nbformat": 4,
 "nbformat_minor": 0
}
