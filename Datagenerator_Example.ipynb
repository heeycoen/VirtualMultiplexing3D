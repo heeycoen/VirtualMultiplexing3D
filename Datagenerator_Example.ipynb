{
 "cells": [
  {
   "cell_type": "code",
   "execution_count": 1,
   "outputs": [],
   "source": [
    "from Preprocessing.Preprocessor import main_Datagen, split_dataset, denoise_in, synthetic_data\n",
    "import h5py\n",
    "import numpy as np\n",
    "import napari\n",
    "import matplotlib.pyplot as plt\n",
    "import cv2\n",
    "from glob import glob\n",
    "from PIL import Image\n",
    "from numpy import asarray\n",
    "from skimage.filters import threshold_otsu, threshold_sauvola, threshold_niblack\n",
    "from sewar.full_ref import mse, rmse, psnr, uqi, ergas, scc, rase, sam, msssim, vifp\n",
    "from skimage.metrics import structural_similarity as ssim\n"
   ],
   "metadata": {
    "collapsed": false
   }
  },
  {
   "cell_type": "code",
   "execution_count": 1,
   "outputs": [
    {
     "ename": "NameError",
     "evalue": "name 'h5py' is not defined",
     "output_type": "error",
     "traceback": [
      "\u001B[0;31m---------------------------------------------------------------------------\u001B[0m",
      "\u001B[0;31mNameError\u001B[0m                                 Traceback (most recent call last)",
      "Cell \u001B[0;32mIn[1], line 1\u001B[0m\n\u001B[0;32m----> 1\u001B[0m result \u001B[38;5;241m=\u001B[39m \u001B[43mh5py\u001B[49m\u001B[38;5;241m.\u001B[39mFile(\u001B[38;5;124m\"\u001B[39m\u001B[38;5;124m/Users/coenkenter/Downloads/comparisonResults/0_result.h5\u001B[39m\u001B[38;5;124m\"\u001B[39m, \u001B[38;5;124m'\u001B[39m\u001B[38;5;124mr\u001B[39m\u001B[38;5;124m'\u001B[39m)\n\u001B[1;32m      2\u001B[0m PixPrediction \u001B[38;5;241m=\u001B[39m np\u001B[38;5;241m.\u001B[39marray([result[\u001B[38;5;124m\"\u001B[39m\u001B[38;5;124mpix2pix\u001B[39m\u001B[38;5;124m\"\u001B[39m][\u001B[38;5;241m1\u001B[39m],result[\u001B[38;5;124m\"\u001B[39m\u001B[38;5;124mpix2pix\u001B[39m\u001B[38;5;124m\"\u001B[39m][\u001B[38;5;241m0\u001B[39m]])\u001B[38;5;241m.\u001B[39mastype(\u001B[38;5;28mint\u001B[39m)\n\u001B[1;32m      3\u001B[0m VoxPrediction \u001B[38;5;241m=\u001B[39m (np\u001B[38;5;241m.\u001B[39marray(result[\u001B[38;5;124m\"\u001B[39m\u001B[38;5;124mprediction\u001B[39m\u001B[38;5;124m\"\u001B[39m])\u001B[38;5;241m*\u001B[39m\u001B[38;5;241m255\u001B[39m)\u001B[38;5;241m.\u001B[39mastype(\u001B[38;5;28mint\u001B[39m)\n",
      "\u001B[0;31mNameError\u001B[0m: name 'h5py' is not defined"
     ]
    }
   ],
   "source": [
    "result = h5py.File(\"/Users/coenkenter/Downloads/comparisonResults/0_result.h5\", 'r')\n",
    "PixPrediction = np.array([result[\"pix2pix\"][1],result[\"pix2pix\"][0]]).astype(int)\n",
    "VoxPrediction = (np.array(result[\"prediction\"])*255).astype(int)\n",
    "Truth = (np.array(result[\"truth\"])*255).astype(int)\n",
    "#VoxPrediction[VoxPrediction==1]=0\n",
    "\n",
    "def compare(org, new):\n",
    "    print(\"MSE: \", mse(new,org))\n",
    "    print(\"RMSE: \", rmse(new, org))\n",
    "    print(\"PSNR: \", psnr(new, org))\n",
    "    print(\"SSIM: \", ssim(new[0], org[0], win_size=15))\n",
    "    print(\"SSIM: \", ssim(new[1], org[1], win_size=15))\n",
    "    #print(\"UQI: \", uqi(new, org))\n",
    "    #print(\"MSSSIM: \", msssim(new, org))\n",
    "    #print(\"ERGAS: \", ergas(new, org))\n",
    "    #print(\"SCC: \", scc(new, org))\n",
    "    #print(\"RASE: \", rase(new, org))\n",
    "    #print(\"SAM: \", sam(new, org))\n",
    "    #print(\"VIF: \", vifp(new, org))\n",
    "\n",
    "print(\"Vox\")\n",
    "compare(Truth, VoxPrediction)\n",
    "print(\"Pix\")\n",
    "compare(Truth, PixPrediction)\n",
    "\n",
    "view = napari.view_image(PixPrediction,channel_axis=0)\n",
    "view.add_image(Truth,channel_axis=0)\n",
    "view.add_image(VoxPrediction,channel_axis=0)\n",
    "napari.run()"
   ],
   "metadata": {
    "collapsed": false
   }
  },
  {
   "cell_type": "markdown",
   "source": [],
   "metadata": {
    "collapsed": false
   }
  },
  {
   "cell_type": "code",
   "execution_count": 2,
   "outputs": [],
   "source": [
    "\n",
    "dataInput = \"VMP_RL1_Exp001_Img010_mix4GT.czi\"\n",
    "resultPath = \"/Users/coenkenter/PycharmProjects/ThesisTestingProject/3DGan/data/generated_denoise\"\n",
    "img_w = 256\n",
    "img_h = 256\n",
    "img_d = 128\n",
    "split = 0.2\n",
    "percentile = 0.99\n",
    "calc_perc = False\n",
    "n_channels = 3\n",
    "type_norm = \"ac\"\n",
    "denoise = True"
   ],
   "metadata": {
    "collapsed": false
   }
  },
  {
   "cell_type": "code",
   "execution_count": 3,
   "outputs": [
    {
     "name": "stdout",
     "output_type": "stream",
     "text": [
      "\u001B[H\u001B[2JLoading img: 1/128\n",
      "Loaded: 1/128\n"
     ]
    },
    {
     "ename": "KeyboardInterrupt",
     "evalue": "",
     "output_type": "error",
     "traceback": [
      "\u001B[0;31m---------------------------------------------------------------------------\u001B[0m",
      "\u001B[0;31mKeyboardInterrupt\u001B[0m                         Traceback (most recent call last)",
      "Cell \u001B[0;32mIn[3], line 1\u001B[0m\n\u001B[0;32m----> 1\u001B[0m \u001B[43mmain_Datagen\u001B[49m\u001B[43m(\u001B[49m\u001B[43mdataInput\u001B[49m\u001B[43m,\u001B[49m\u001B[43mresultPath\u001B[49m\u001B[43m,\u001B[49m\u001B[43mimg_w\u001B[49m\u001B[43m,\u001B[49m\u001B[43mimg_h\u001B[49m\u001B[43m,\u001B[49m\u001B[38;5;241;43m10\u001B[39;49m\u001B[43m,\u001B[49m\u001B[38;5;241;43m138\u001B[39;49m\u001B[43m,\u001B[49m\u001B[43msplit\u001B[49m\u001B[43m,\u001B[49m\u001B[43mcalc_perc\u001B[49m\u001B[43m,\u001B[49m\u001B[43mpercentile\u001B[49m\u001B[43m,\u001B[49m\u001B[43mn_channels\u001B[49m\u001B[43m,\u001B[49m\u001B[43mtype_norm\u001B[49m\u001B[43m,\u001B[49m\u001B[43mdenoise\u001B[49m\u001B[43m)\u001B[49m\n",
      "File \u001B[0;32m~/PycharmProjects/ThesisTestingProject/3DGan/datagenerator.py:95\u001B[0m, in \u001B[0;36mmain_Datagen\u001B[0;34m(filepath, resultpath, img_width, img_height, img_depth_bottom, img_depth_top, split, calcperc, percentile, channels, normalization, denoise)\u001B[0m\n\u001B[1;32m     92\u001B[0m unm \u001B[38;5;241m=\u001B[39m df[\u001B[38;5;124m'\u001B[39m\u001B[38;5;124munmixed\u001B[39m\u001B[38;5;124m'\u001B[39m]\n\u001B[1;32m     93\u001B[0m m \u001B[38;5;241m=\u001B[39m df[\u001B[38;5;124m'\u001B[39m\u001B[38;5;124mmixed\u001B[39m\u001B[38;5;124m'\u001B[39m]\n\u001B[0;32m---> 95\u001B[0m unm[\u001B[38;5;241m0\u001B[39m, idx \u001B[38;5;241m-\u001B[39m img_depth_bottom, \u001B[38;5;241m0\u001B[39m:img_width, \u001B[38;5;241m0\u001B[39m:img_height] \u001B[38;5;241m=\u001B[39m \u001B[43mdenoise_in\u001B[49m\u001B[43m(\u001B[49m\n\u001B[1;32m     96\u001B[0m \u001B[43m    \u001B[49m\u001B[43mnormalize\u001B[49m\u001B[43m(\u001B[49m\u001B[43mz1\u001B[49m\u001B[43m,\u001B[49m\u001B[43m \u001B[49m\u001B[43mpercentiles\u001B[49m\u001B[43m,\u001B[49m\u001B[43m \u001B[49m\u001B[38;5;241;43m0\u001B[39;49m\u001B[43m,\u001B[49m\u001B[43m \u001B[49m\u001B[43mnormalization\u001B[49m\u001B[43m)\u001B[49m\u001B[43m,\u001B[49m\u001B[43m(\u001B[49m\u001B[38;5;241;43m3\u001B[39;49m\u001B[43m,\u001B[49m\u001B[43m \u001B[49m\u001B[38;5;241;43m3\u001B[39;49m\u001B[43m)\u001B[49m\u001B[43m,\u001B[49m\u001B[43mdenoise\u001B[49m\u001B[43m)\u001B[49m[z, i \u001B[38;5;241m*\u001B[39m img_width: img_width \u001B[38;5;241m+\u001B[39m i \u001B[38;5;241m*\u001B[39m img_width,\n\u001B[1;32m     97\u001B[0m               j \u001B[38;5;241m*\u001B[39m img_height: img_height \u001B[38;5;241m+\u001B[39m j \u001B[38;5;241m*\u001B[39m img_height]\n\u001B[1;32m     98\u001B[0m unm[\u001B[38;5;241m1\u001B[39m, idx \u001B[38;5;241m-\u001B[39m img_depth_bottom, \u001B[38;5;241m0\u001B[39m:img_width, \u001B[38;5;241m0\u001B[39m:img_height] \u001B[38;5;241m=\u001B[39m denoise_in(\n\u001B[1;32m     99\u001B[0m     normalize(z2, percentiles, \u001B[38;5;241m1\u001B[39m, normalization), (\u001B[38;5;241m3\u001B[39m, \u001B[38;5;241m3\u001B[39m), denoise)[z,\n\u001B[1;32m    100\u001B[0m                                                             i \u001B[38;5;241m*\u001B[39m img_width: img_width \u001B[38;5;241m+\u001B[39m i \u001B[38;5;241m*\u001B[39m img_width,\n\u001B[1;32m    101\u001B[0m                                                             j \u001B[38;5;241m*\u001B[39m img_height: img_height \u001B[38;5;241m+\u001B[39m j \u001B[38;5;241m*\u001B[39m img_height]\n\u001B[1;32m    103\u001B[0m m[\u001B[38;5;241m0\u001B[39m, idx \u001B[38;5;241m-\u001B[39m img_depth_bottom, \u001B[38;5;241m0\u001B[39m:img_width, \u001B[38;5;241m0\u001B[39m:img_height] \u001B[38;5;241m=\u001B[39m denoise_in(\n\u001B[1;32m    104\u001B[0m     normalize(z3, percentiles, \u001B[38;5;241m2\u001B[39m, normalization), (\u001B[38;5;241m3\u001B[39m, \u001B[38;5;241m3\u001B[39m), denoise)[z,\n\u001B[1;32m    105\u001B[0m                                                             i \u001B[38;5;241m*\u001B[39m img_width: img_width \u001B[38;5;241m+\u001B[39m i \u001B[38;5;241m*\u001B[39m img_width,\n\u001B[1;32m    106\u001B[0m                                                             j \u001B[38;5;241m*\u001B[39m img_height: img_height \u001B[38;5;241m+\u001B[39m j \u001B[38;5;241m*\u001B[39m img_height]\n",
      "File \u001B[0;32m~/PycharmProjects/ThesisTestingProject/3DGan/datagenerator.py:31\u001B[0m, in \u001B[0;36mdenoise_in\u001B[0;34m(input, kernel, denoise)\u001B[0m\n\u001B[1;32m     29\u001B[0m \u001B[38;5;28;01mdef\u001B[39;00m \u001B[38;5;21mdenoise_in\u001B[39m(\u001B[38;5;28minput\u001B[39m, kernel, denoise):\n\u001B[1;32m     30\u001B[0m     \u001B[38;5;28;01mif\u001B[39;00m denoise:\n\u001B[0;32m---> 31\u001B[0m         \u001B[38;5;28;01mreturn\u001B[39;00m np\u001B[38;5;241m.\u001B[39marray([cv2\u001B[38;5;241m.\u001B[39mfastNlMeansDenoising(i\u001B[38;5;241m.\u001B[39mastype(\u001B[38;5;124m'\u001B[39m\u001B[38;5;124muint8\u001B[39m\u001B[38;5;124m'\u001B[39m),\u001B[38;5;28;01mNone\u001B[39;00m,\u001B[38;5;241m10\u001B[39m,\u001B[38;5;241m7\u001B[39m,\u001B[38;5;241m21\u001B[39m) \u001B[38;5;28;01mfor\u001B[39;00m i \u001B[38;5;129;01min\u001B[39;00m \u001B[38;5;28minput\u001B[39m])\n\u001B[1;32m     32\u001B[0m     \u001B[38;5;28;01melse\u001B[39;00m:\n\u001B[1;32m     33\u001B[0m         \u001B[38;5;28;01mreturn\u001B[39;00m \u001B[38;5;28minput\u001B[39m\n",
      "File \u001B[0;32m~/PycharmProjects/ThesisTestingProject/3DGan/datagenerator.py:31\u001B[0m, in \u001B[0;36m<listcomp>\u001B[0;34m(.0)\u001B[0m\n\u001B[1;32m     29\u001B[0m \u001B[38;5;28;01mdef\u001B[39;00m \u001B[38;5;21mdenoise_in\u001B[39m(\u001B[38;5;28minput\u001B[39m, kernel, denoise):\n\u001B[1;32m     30\u001B[0m     \u001B[38;5;28;01mif\u001B[39;00m denoise:\n\u001B[0;32m---> 31\u001B[0m         \u001B[38;5;28;01mreturn\u001B[39;00m np\u001B[38;5;241m.\u001B[39marray([\u001B[43mcv2\u001B[49m\u001B[38;5;241;43m.\u001B[39;49m\u001B[43mfastNlMeansDenoising\u001B[49m\u001B[43m(\u001B[49m\u001B[43mi\u001B[49m\u001B[38;5;241;43m.\u001B[39;49m\u001B[43mastype\u001B[49m\u001B[43m(\u001B[49m\u001B[38;5;124;43m'\u001B[39;49m\u001B[38;5;124;43muint8\u001B[39;49m\u001B[38;5;124;43m'\u001B[39;49m\u001B[43m)\u001B[49m\u001B[43m,\u001B[49m\u001B[38;5;28;43;01mNone\u001B[39;49;00m\u001B[43m,\u001B[49m\u001B[38;5;241;43m10\u001B[39;49m\u001B[43m,\u001B[49m\u001B[38;5;241;43m7\u001B[39;49m\u001B[43m,\u001B[49m\u001B[38;5;241;43m21\u001B[39;49m\u001B[43m)\u001B[49m \u001B[38;5;28;01mfor\u001B[39;00m i \u001B[38;5;129;01min\u001B[39;00m \u001B[38;5;28minput\u001B[39m])\n\u001B[1;32m     32\u001B[0m     \u001B[38;5;28;01melse\u001B[39;00m:\n\u001B[1;32m     33\u001B[0m         \u001B[38;5;28;01mreturn\u001B[39;00m \u001B[38;5;28minput\u001B[39m\n",
      "\u001B[0;31mKeyboardInterrupt\u001B[0m: "
     ]
    }
   ],
   "source": [
    "\n",
    "\n",
    "main_Datagen(dataInput,resultPath,img_w,img_h,10,138,split,calc_perc,percentile,n_channels,type_norm,denoise)\n"
   ],
   "metadata": {
    "collapsed": false
   }
  },
  {
   "cell_type": "code",
   "execution_count": 3,
   "outputs": [
    {
     "name": "stdout",
     "output_type": "stream",
     "text": [
      "Splitting data into training and validation... 0.2 part is validation\n"
     ]
    }
   ],
   "source": [
    "split_dataset(resultPath,split)"
   ],
   "metadata": {
    "collapsed": false
   }
  },
  {
   "cell_type": "code",
   "execution_count": 2,
   "outputs": [],
   "source": [
    "test = h5py.File(\"/Users/coenkenter/PycharmProjects/ThesisTestingProject/3DGan/data/generated_VMP_RL1_Exp001_Img010_mix4GT/train/epoch_125_fake_B.vox\", 'r')\n",
    "test1 = h5py.File(\"/Users/coenkenter/PycharmProjects/ThesisTestingProject/3DGan/data/generated_VMP_RL1_Exp001_Img010_mix4GT/train/epoch_125_real_B.vox\", 'r')\n",
    "arr = np.array(test['data'])\n",
    "arr2 = np.array(test1['data'])\n",
    "view = napari.view_image(arr, channel_axis = 0)\n",
    "view.add_image(arr2, channel_axis = 0)\n",
    "napari.run()"
   ],
   "metadata": {
    "collapsed": false
   }
  },
  {
   "cell_type": "code",
   "execution_count": 14,
   "outputs": [],
   "source": [
    "def den(inp,s,siz,v):\n",
    "    out = np.zeros(inp.shape).astype('uint8')\n",
    "    print(out.shape)\n",
    "    print(inp.shape)\n",
    "    for i in range(inp.shape[0]):\n",
    "       out[i] = cv2.fastNlMeansDenoising(inp[i],None,s,siz,v)\n",
    "    return out\n",
    "\n"
   ],
   "metadata": {
    "collapsed": false
   }
  },
  {
   "cell_type": "markdown",
   "source": [],
   "metadata": {
    "collapsed": false
   }
  },
  {
   "cell_type": "code",
   "execution_count": 17,
   "outputs": [
    {
     "name": "stdout",
     "output_type": "stream",
     "text": [
      "(128, 256, 256)\n"
     ]
    }
   ],
   "source": [
    "test = h5py.File(\"/Users/coenkenter/Downloads/9_16.h5\", 'r')\n",
    "\n",
    "arr = np.array(test['mixed'])\n",
    "view = napari.view_image(arr[0])\n",
    "view.add_image(np.array(test['unmixed']),channel_axis=0)\n",
    "synth = synthetic_data(test['unmixed'][0],test['unmixed'][1],\"Max\")\n",
    "print(synth.shape)\n",
    "view.add_image(synth)\n",
    "view.add_image(synthetic_data(test['unmixed'][0],test['unmixed'][1],\"50-50\"))\n",
    "test = h5py.File(\"/Users/coenkenter/Downloads/9_16-1.h5\", 'r')\n",
    "arr = np.array([denoise_in(x, True) for x in test['mixed'][0]])\n",
    "unmx = np.array([[denoise_in(x,True) for x in test['unmixed'][0]],[denoise_in(x,True) for x in test['unmixed'][1]]])\n",
    "view = napari.view_image(arr)\n",
    "view.add_image(unmx,channel_axis=0)\n",
    "synth = synthetic_data(unmx[0],unmx[1],\"Max\")\n",
    "print(synth.shape)\n",
    "view.add_image(synth)\n",
    "view.add_image(synthetic_data(unmx[0],unmx[1],\"50-50\"))\n",
    "\n",
    "\n",
    "napari.run()\n",
    "\n"
   ],
   "metadata": {
    "collapsed": false
   }
  },
  {
   "cell_type": "code",
   "execution_count": 3,
   "outputs": [],
   "source": [
    "\n",
    "import matplotlib.pyplot as plt\n",
    "test = h5py.File(\"/Users/coenkenter/PycharmProjects/ThesisTestingProject/3DGan/data/256x256x4x2_P-99_Nac-1.0_NoEmpty_40/testdata2/FGS_BJ1_EXP006-1_Img005_NBL39_6color-part0x0x0.h5\" , 'r')\n",
    "arr = np.array(test[\"image\"])\n",
    "\n",
    "view = napari.view_image(arr,scale=(1,1,1))\n",
    "napari.run()\n",
    "\n",
    "#plt.hist(arr[0],bins=100)\n",
    "#plt.show()"
   ],
   "metadata": {
    "collapsed": false
   }
  },
  {
   "cell_type": "code",
   "execution_count": 4,
   "outputs": [],
   "source": [
    "epochs = [158]\n",
    "view = napari.Viewer()\n",
    "for epoch in epochs:\n",
    "\n",
    "    test = h5py.File(\"/Users/coenkenter/Downloads/epoch_%d_real_A.vox\" % epoch, 'r')\n",
    "    arr = np.array(test['data'][0])\n",
    "    view.add_image(arr,scale=(4,1,1))\n",
    "\n",
    "    test3 = h5py.File(\"/Users/coenkenter/Downloads/epoch_%d_fake_B.vox\" % epoch, 'r')\n",
    "    arr2 = np.array(test3['data'])\n",
    "    view.add_image(arr2,channel_axis=0,scale=(4,1,1))\n",
    "\n",
    "napari.run()"
   ],
   "metadata": {
    "collapsed": false
   }
  },
  {
   "cell_type": "code",
   "execution_count": 3,
   "outputs": [
    {
     "name": "stdout",
     "output_type": "stream",
     "text": [
      "{'dtype': dtype('uint16'), 'nviews': 1, 'nchannels': 1, 'ntimepoints': 1, 'nplanes': 146, 'ncols': 3788, 'nrows': 3788, 'nstacks': 16, 'zstack_shape': [1, 1, 1, 1, 1, 1, 1, 1, 146, 1024, 1024, 1], 'tilesize': [1024, 1024], 'dims_zyxc': [146, 1024, 1024, 1], 'elsize_zyxc': [1.2099999999999997, 0.332106334980716, 0.332106334980716, 1], 'stack_offsets': array([[ 0.000e+00, -1.382e+03, -1.382e+03,  0.000e+00],\n",
      "       [ 1.000e+00, -4.600e+02, -1.382e+03,  0.000e+00],\n",
      "       [ 2.000e+00,  4.600e+02, -1.382e+03,  0.000e+00],\n",
      "       [ 3.000e+00,  1.382e+03, -1.382e+03,  0.000e+00],\n",
      "       [ 4.000e+00, -1.382e+03, -4.600e+02,  0.000e+00],\n",
      "       [ 5.000e+00, -4.600e+02, -4.600e+02,  0.000e+00],\n",
      "       [ 6.000e+00,  4.600e+02, -4.600e+02,  0.000e+00],\n",
      "       [ 7.000e+00,  1.382e+03, -4.600e+02,  0.000e+00],\n",
      "       [ 8.000e+00, -1.382e+03,  4.600e+02,  0.000e+00],\n",
      "       [ 9.000e+00, -4.600e+02,  4.600e+02,  0.000e+00],\n",
      "       [ 1.000e+01,  4.600e+02,  4.600e+02,  0.000e+00],\n",
      "       [ 1.100e+01,  1.382e+03,  4.600e+02,  0.000e+00],\n",
      "       [ 1.200e+01, -1.382e+03,  1.382e+03,  0.000e+00],\n",
      "       [ 1.300e+01, -4.600e+02,  1.382e+03,  0.000e+00],\n",
      "       [ 1.400e+01,  4.600e+02,  1.382e+03,  0.000e+00],\n",
      "       [ 1.500e+01,  1.382e+03,  1.382e+03,  0.000e+00]]), 'channels': [0], 'timepoints': [0], 'planes': [0, 1, 2, 3, 4, 5, 6, 7, 8, 9, 10, 11, 12, 13, 14, 15, 16, 17, 18, 19, 20, 21, 22, 23, 24, 25, 26, 27, 28, 29, 30, 31, 32, 33, 34, 35, 36, 37, 38, 39, 40, 41, 42, 43, 44, 45, 46, 47, 48, 49, 50, 51, 52, 53, 54, 55, 56, 57, 58, 59, 60, 61, 62, 63, 64, 65, 66, 67, 68, 69, 70, 71, 72, 73, 74, 75, 76, 77, 78, 79, 80, 81, 82, 83, 84, 85, 86, 87, 88, 89, 90, 91, 92, 93, 94, 95, 96, 97, 98, 99, 100, 101, 102, 103, 104, 105, 106, 107, 108, 109, 110, 111, 112, 113, 114, 115, 116, 117, 118, 119, 120, 121, 122, 123, 124, 125, 126, 127, 128, 129, 130, 131, 132, 133, 134, 135, 136, 137, 138, 139, 140, 141, 142, 143, 144, 145], 'stacks': [0, 1, 2, 3, 4, 5, 6, 7, 8, 9, 10, 11, 12, 13, 14, 15]}\n"
     ]
    }
   ],
   "source": [
    "from stapl3d.preprocessing import shading\n",
    "\n",
    "\n",
    "filepath = \"/Users/coenkenter/Downloads/VMP_RL1_Exp001_Img008_mix5RD.czi\"\n",
    "channel = 0\n",
    "idx = 0\n",
    "print(\n",
    "shading.get_image_info(filepath))"
   ],
   "metadata": {
    "collapsed": false
   }
  },
  {
   "cell_type": "code",
   "execution_count": 8,
   "outputs": [
    {
     "name": "stdout",
     "output_type": "stream",
     "text": [
      "(55, 1024, 1024)\n"
     ]
    }
   ],
   "source": [
    "tmp_channel_stacked_planes = []\n",
    "for idx in range(45,100):\n",
    "    data = shading.read_tiled_plane(filepath, channel, idx)\n",
    "    # Stacking the 49 tiles on top of each other.\n",
    "    tmp_channel_stacked_planes.append(data[0])\n",
    "dat = np.array(tmp_channel_stacked_planes)\n",
    "print(dat.shape)\n",
    "view = napari.view_image(dat)"
   ],
   "metadata": {
    "collapsed": false
   }
  },
  {
   "cell_type": "code",
   "execution_count": 3,
   "outputs": [],
   "source": [
    "test = h5py.File(\"/Users/coenkenter/Downloads/3DStack_pix2pixHD.hdf5\", 'r')\n",
    "plns = np.empty((136,1024,1024,3))\n",
    "for pln in range(136):\n",
    "    arr = np.array(test[\"plane_%d\"%pln][40])\n",
    "    plns[pln] = arr\n",
    "view = napari.view_image(plns, channel_axis=3,scale=(4,1,1))\n",
    "napari.run()\n",
    "\n"
   ],
   "metadata": {
    "collapsed": false
   }
  },
  {
   "cell_type": "code",
   "execution_count": 66,
   "outputs": [],
   "source": [
    "\n",
    "test = h5py.File(\"/Users/coenkenter/PycharmProjects/ThesisTestingProject/Segmentation/preprocessing/Users/coenkenter/PycharmProjects/ThesisTestingProject/Segmentation/Segmentation_Output/training_out/FGS_BJ1_EXP006-1_Img005_NBL39_6color-part0.h5\", 'r')\n",
    "\n",
    "view = napari.view_image(test[\"image\"])\n",
    "\n",
    "view.add_labels(test[\"segments\"])\n",
    "napari.run()"
   ],
   "metadata": {
    "collapsed": false
   }
  },
  {
   "cell_type": "code",
   "execution_count": null,
   "outputs": [],
   "source": [],
   "metadata": {
    "collapsed": false
   }
  },
  {
   "cell_type": "code",
   "execution_count": 46,
   "outputs": [],
   "source": [
    "import matplotlib\n",
    "import os\n",
    "file = \"14_0-1\"\n",
    "data = \"/Users/coenkenter/PycharmProjects/ThesisTestingProject/3DGan/data/test/\"\n",
    "if os.path.exists(data+ file)==False:\n",
    "    os.mkdir(data+file)\n",
    "datafolder =data + file\n",
    "\n",
    "if os.path.exists(datafolder+\"/mixed\")==False:\n",
    "    os.mkdir(datafolder+\"/mixed\")\n",
    "\n",
    "if os.path.exists(datafolder+\"/unmixed\")==False:\n",
    "    os.mkdir(datafolder+\"/unmixed\")\n",
    "test = h5py.File(data + \"/\" + file + \".h5\", 'r')\n",
    "\n",
    "x = test[\"mixed\"][0]\n",
    "i=0\n",
    "for i, layer in enumerate(x):\n",
    "    source_image = np.zeros((layer.shape[0], layer.shape[1],3))\n",
    "    layer*=255\n",
    "    source_image[:,:,0] = layer\n",
    "    source_image[:,:,1] = layer\n",
    "    source_image[:,:,2] = layer\n",
    "    matplotlib.image.imsave(datafolder+\"/mixed/layer_\"+str(i+1)+'.png',source_image.astype(np.uint8))\n",
    "\n",
    "\n",
    "y = np.array(test[\"unmixed\"])\n",
    "for layer in range(i+1):\n",
    "    source_image = np.zeros((y[0].shape[1], y[0].shape[2],3))\n",
    "    source_image[:,:,0] = y[0,layer]*255\n",
    "    source_image[:,:,1] = y[1,layer]*255\n",
    "    matplotlib.image.imsave(datafolder+\"/unmixed/layer_\"+str(layer+1)+'.png',source_image.astype(np.uint8))"
   ],
   "metadata": {
    "collapsed": false
   }
  },
  {
   "cell_type": "code",
   "execution_count": 3,
   "outputs": [],
   "source": [
    "test = h5py.File(\"/Users/coenkenter/PycharmProjects/ThesisTestingProject/3DGan/data/images/resultImage.h5\", 'r')\n",
    "PixPrediction = np.array(test[\"unmixed\"])/255\n",
    "test1 = h5py.File(\"/Users/coenkenter/PycharmProjects/ThesisTestingProject/3DGan/data/images/0_fake_B.h5\", 'r')\n",
    "VoxPrediction = np.array(test1[\"data\"])\n",
    "test2 = h5py.File(\"/Users/coenkenter/PycharmProjects/ThesisTestingProject/3DGan/data/images/14_0-1.h5\", 'r')\n",
    "Real = np.array(test2[\"unmixed\"])"
   ],
   "metadata": {
    "collapsed": false
   }
  },
  {
   "cell_type": "code",
   "execution_count": 2,
   "outputs": [],
   "source": [
    "root = \"/Users/coenkenter/PycharmProjects/ThesisTestingProject/3DGan/data/images\"\n",
    "z = [x.split(\"/\") for x in\n",
    "         glob(root + \"/*fake.png\", recursive=True)]\n",
    "z = [x[len(x) - 1] for x in z]\n",
    "z = [x.split(\"_\")[1] for x in z]\n",
    "z.sort(key=int)\n",
    "\n",
    "z = [\"layer_%s_fake.png\"%x for x in z]\n",
    "\n",
    "with h5py.File(f'{root}/resultImage.h5', 'w') as df:\n",
    "    df.create_dataset('unmixed',\n",
    "                      shape=[3, 128, 512, 512], dtype=float)\n",
    "    mx = df[\"unmixed\"]\n",
    "    i = 0\n",
    "    for fi in z:\n",
    "        with Image.open(root+\"/\"+fi) as img:\n",
    "            arr = asarray(img)\n",
    "            mx[0,i,0:512,0:512] = arr[0:512,0:512,0]\n",
    "            mx[1,i,0:512,0:512] = arr[0:512,0:512,1]\n",
    "            mx[2,i,0:512,0:512] = arr[0:512,0:512,2]\n",
    "\n",
    "        i+=1\n",
    "    df.close()\n",
    "\n",
    "\n",
    "\n"
   ],
   "metadata": {
    "collapsed": false
   }
  },
  {
   "cell_type": "code",
   "execution_count": 2,
   "outputs": [],
   "source": [
    "root = \"/Users/coenkenter/Downloads/comparisonResults\"\n",
    "from Preprocessing.Converter import batch_convert_to_pix2pix\n",
    "\n",
    "batch_convert_to_pix2pix(root)\n"
   ],
   "metadata": {
    "collapsed": false
   }
  },
  {
   "cell_type": "code",
   "execution_count": 3,
   "outputs": [],
   "source": [
    "root = \"/Users/coenkenter/Downloads/comparisonResults\"\n",
    "from Preprocessing.Converter import batch_convert_from_pix2pix\n",
    "\n",
    "batch_convert_from_pix2pix(root)"
   ],
   "metadata": {
    "collapsed": false
   }
  },
  {
   "cell_type": "code",
   "execution_count": null,
   "outputs": [],
   "source": [
    "from scipy.ndimage import gaussian_filter\n",
    "from scipy.ndimage.morphology import binary_fill_holes\n",
    "from skimage.morphology.binary import binary_dilation\n",
    "\n",
    "def Sauvola_mask(array,multiplyer=255):\n",
    "    blurred_array=array*multiplyer\n",
    "    blurred_array = blurred_array.astype(int)\n",
    "    blurred_array_2= []\n",
    "    for i in range(128):\n",
    "        blurred_array_2.append(denoise_in(blurred_array[i],True))\n",
    "    blurred_array_2= np.array(blurred_array_2)\n",
    "    blurred_array_2 = gaussian_filter(blurred_array_2,sigma=2)\n",
    "    sauvola = threshold_sauvola(blurred_array_2,window_size=7)\n",
    "    mask_array = blurred_array_2>sauvola\n",
    "    mask_array[blurred_array_2<20]=False\n",
    "    mask_array[blurred_array_2>200]=True\n",
    "\n",
    "    mask_array = binary_dilation(mask_array)\n",
    "    mask_array = binary_fill_holes(mask_array)\n",
    "    for i in range(128):\n",
    "        mask_array[i] = binary_fill_holes(mask_array[i])\n",
    "    mask_array = binary_dilation(mask_array)\n",
    "    mask_array = binary_fill_holes(mask_array)\n",
    "    for i in range(128):\n",
    "        mask_array[i] = binary_fill_holes(mask_array[i])\n",
    "\n",
    "    mask_array = binary_dilation(mask_array)\n",
    "    mask_array = binary_fill_holes(mask_array)\n",
    "    for i in range(128):\n",
    "        mask_array[i] = binary_fill_holes(mask_array[i])\n",
    "\n",
    "    mask_array = binary_dilation(mask_array)\n",
    "    mask_array = binary_fill_holes(mask_array)\n",
    "    for i in range(128):\n",
    "        mask_array[i] = binary_fill_holes(mask_array[i])\n",
    "    return mask_array\n",
    "\n",
    "\n",
    "def Masked_SSIM_SingleChan(PredictionVox,PredictionPix, Truth):\n",
    "    mask_truth = Sauvola_mask(Truth)\n",
    "    mask_pix_prediction = Sauvola_mask(PredictionPix)\n",
    "    mask_vox_prediction = Sauvola_mask(PredictionVox)\n",
    "    VoxMasked = np.where(mask_vox_prediction,PredictionVox,0)\n",
    "    PixMasked = np.where(mask_pix_prediction,PredictionPix,0)\n",
    "    RealMasked = np.where(mask_truth,Truth,0)\n",
    "\n",
    "    PixDice = dice(mask_pix_prediction,mask_truth)\n",
    "    VoxDice = dice(mask_vox_prediction,mask_truth)\n",
    "    VoxSSIM = ssim(VoxMasked,RealMasked,win_size=7,channel_axis=0)\n",
    "    PixSSIM = ssim(PixMasked,RealMasked,win_size=7,channel_axis=0)\n",
    "    return VoxSSIM, VoxDice, PixSSIM, PixDice\n",
    "\n",
    "def Masked_SSIM(PredictionVox,PredictionPix, Truth):\n",
    "    mask_truth = Sauvola_mask(Truth[0]+Truth[1])\n",
    "    mask_pix_prediction = Sauvola_mask(PredictionPix[0]+PredictionPix[1])\n",
    "    mask_vox_prediction = Sauvola_mask(PredictionVox[0]+PredictionVox[1])\n",
    "    VoxMasked = np.where(np.array([mask_vox_prediction,mask_vox_prediction]),PredictionVox,0)\n",
    "    PixMasked = np.where(np.array([mask_pix_prediction,mask_pix_prediction]),PredictionPix,0)\n",
    "    RealMasked = np.where(np.array([mask_truth,mask_truth]),Truth,0)\n",
    "\n",
    "    PixDice = dice(mask_pix_prediction,mask_truth)\n",
    "    VoxDice = dice(mask_vox_prediction,mask_truth)\n",
    "    VoxSSIM = ssim(VoxMasked,RealMasked,win_size=7,channel_axis=0)\n",
    "    PixSSIM = ssim(PixMasked,RealMasked,win_size=7,channel_axis=0)\n",
    "    return VoxSSIM, VoxDice, PixSSIM, PixDice, mask_truth\n",
    "\n"
   ],
   "metadata": {
    "collapsed": false
   }
  },
  {
   "cell_type": "code",
   "execution_count": 7,
   "outputs": [],
   "source": [
    "result = h5py.File(\"/Users/coenkenter/Downloads/comparisonResults/0_result.h5\", 'r')\n",
    "PixPrediction = np.array([result[\"pix2pix\"][1],result[\"pix2pix\"][0]])/255\n",
    "VoxPrediction = np.array(result[\"prediction\"])\n",
    "Truth = np.array(result[\"truth\"])\n",
    "\n",
    "\n",
    "\n",
    "view = napari.view_image(PixPrediction[1,40:85,150:400,0:100])\n",
    "view.add_image(Truth[1,40:85,150:400,0:100])\n",
    "view.add_image(VoxPrediction[1,40:85,150:400,0:100])\n",
    "napari.run()"
   ],
   "metadata": {
    "collapsed": false
   }
  },
  {
   "cell_type": "code",
   "execution_count": 6,
   "outputs": [],
   "source": [
    "\n",
    "\n",
    "test = h5py.File(\"/Users/coenkenter/PycharmProjects/ThesisTestingProject/3DGan/data/images_realdata/resultImage.h5\", 'r')\n",
    "PixPrediction = np.array(test[\"unmixed\"])/255\n",
    "test1 = h5py.File(\"/Users/coenkenter/PycharmProjects/ThesisTestingProject/3DGan/data/images_realdata/1_fake_B.h5\", 'r')\n",
    "VoxPrediction = np.array(test1[\"data\"])\n",
    "test2 = h5py.File(\"/Users/coenkenter/PycharmProjects/ThesisTestingProject/3DGan/data/images_realdata/1_real_A.h5\", 'r')\n",
    "Real = np.array(test2[\"data\"][0])\n"
   ],
   "metadata": {
    "collapsed": false
   }
  },
  {
   "cell_type": "code",
   "execution_count": 11,
   "outputs": [
    {
     "name": "stderr",
     "output_type": "stream",
     "text": [
      "/opt/anaconda3/envs/stapl3d/lib/python3.9/site-packages/skimage/_shared/utils.py:348: UserWarning: Inputs have mismatched dtype.  Setting data_range based on im1.dtype.\n",
      "  return func(*args, **kwargs)\n"
     ]
    }
   ],
   "source": [
    "VoxSSIM, VoxDice, PixSSIM, PixDice, mask = Masked_SSIM(VoxPrediction,np.array([PixPrediction[0],PixPrediction[1]]),Real)"
   ],
   "metadata": {
    "collapsed": false
   }
  },
  {
   "cell_type": "code",
   "execution_count": 12,
   "outputs": [],
   "source": [
    "VMSSIM, VMDice,PMSSIM,PMDice = Masked_SSIM_SingleChan(VoxPrediction[0],PixPrediction[1],Real[0])\n",
    "VCSSIM, VCDice,PCSSIM,PCDice = Masked_SSIM_SingleChan(VoxPrediction[1],PixPrediction[0],Real[1])\n",
    "VMSSIM_ = ssim(VoxPrediction[0],Real[0],win_size=7,channel_axis=0)\n",
    "PMSSIM_ = ssim(PixPrediction[1],Real[0],win_size=7,channel_axis=0)\n",
    "VCSSIM_ = ssim(VoxPrediction[1],Real[1],win_size=7,channel_axis=0)\n",
    "PCSSIM_ = ssim(PixPrediction[0],Real[1],win_size=7,channel_axis=0)\n",
    "\n"
   ],
   "metadata": {
    "collapsed": false
   }
  },
  {
   "cell_type": "code",
   "execution_count": 7,
   "outputs": [
    {
     "name": "stdout",
     "output_type": "stream",
     "text": [
      "Vox2Vox SSIM: 0.6684985160827637 MaskSSIM: 0.8787877559661865 MaskDice: 0.9349132782807833\n",
      "Vox2Vox Membrane SSIM: 0.5901244282722473 MaskSSIM: 0.8872823715209961 MaskDice: 0.9562998445007262\n",
      "Vox2Vox Cell SSIM: 0.734891414642334 MaskSSIM: 0.9455244541168213 MaskDice: 0.8215562192434714\n",
      "Pix2Pix SSIM: 0.5507712668655962 MaskSSIM: 0.775836870471518 MaskDice: 0.9516616061028444\n",
      "Pix2Pix Membrane SSIM: 0.5081211751224011 MaskSSIM: 0.8811384648566836 MaskDice: 0.9553193673117593\n",
      "Pix2Pix Cell SSIM: 0.7539436222886949 MaskSSIM: 0.9321010994493737 MaskDice: 0.7543631783339764\n"
     ]
    }
   ],
   "source": [
    "\n",
    "VSSIM = ssim(VoxPrediction,Real,win_size=7,channel_axis=0)\n",
    "PSSIM = ssim(np.array([PixPrediction[0],PixPrediction[1]]),Real,win_size=7,channel_axis=0)\n",
    "print(f\"Vox2Vox SSIM: {VSSIM} MaskSSIM: {VoxSSIM} MaskDice: {VoxDice}\")\n",
    "print(f\"Vox2Vox Membrane SSIM: {VMSSIM_} MaskSSIM: {VMSSIM} MaskDice: {VMDice}\")\n",
    "print(f\"Vox2Vox Cell SSIM: {VCSSIM_} MaskSSIM: {VCSSIM} MaskDice: {VCDice}\")\n",
    "print(f\"Pix2Pix SSIM: {PSSIM} MaskSSIM: {PixSSIM} MaskDice: {PixDice}\")\n",
    "print(f\"Pix2Pix Membrane SSIM: {PMSSIM_} MaskSSIM: {PMSSIM} MaskDice: {PMDice}\")\n",
    "print(f\"Pix2Pix Cell SSIM: {PCSSIM_} MaskSSIM: {PCSSIM} MaskDice: {PCDice}\")"
   ],
   "metadata": {
    "collapsed": false
   }
  },
  {
   "cell_type": "code",
   "execution_count": 7,
   "outputs": [],
   "source": [
    "view = napari.view_image(np.array([PixPrediction[0],PixPrediction[1]]),channel_axis=0)\n",
    "view.add_image(Real)\n",
    "view.add_image(VoxPrediction,channel_axis=0)\n",
    "napari.run()"
   ],
   "metadata": {
    "collapsed": false
   }
  },
  {
   "cell_type": "code",
   "execution_count": null,
   "outputs": [],
   "source": [],
   "metadata": {
    "collapsed": false
   }
  }
 ],
 "metadata": {
  "kernelspec": {
   "display_name": "Python 3",
   "language": "python",
   "name": "python3"
  },
  "language_info": {
   "codemirror_mode": {
    "name": "ipython",
    "version": 2
   },
   "file_extension": ".py",
   "mimetype": "text/x-python",
   "name": "python",
   "nbconvert_exporter": "python",
   "pygments_lexer": "ipython2",
   "version": "2.7.6"
  }
 },
 "nbformat": 4,
 "nbformat_minor": 0
}
